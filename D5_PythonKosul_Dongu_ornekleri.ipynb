{
  "nbformat": 4,
  "nbformat_minor": 0,
  "metadata": {
    "colab": {
      "provenance": []
    },
    "kernelspec": {
      "name": "python3",
      "display_name": "Python 3"
    },
    "language_info": {
      "name": "python"
    }
  },
  "cells": [
    {
      "cell_type": "code",
      "execution_count": null,
      "metadata": {
        "colab": {
          "base_uri": "https://localhost:8080/"
        },
        "id": "QyBcX6txvymf",
        "outputId": "9007a998-9230-4e3a-b521-2790738c0824"
      },
      "outputs": [
        {
          "output_type": "stream",
          "name": "stdout",
          "text": [
            "Merhaba, İGÜ - İSTKA / Ders 6\n"
          ]
        }
      ],
      "source": [
        "print(\"Merhaba, İGÜ - İSTKA / Ders 6\") # print ekrana çıktı veren bir koddur."
      ]
    },
    {
      "cell_type": "code",
      "source": [
        "import sys # import python programlama dilinde yazılıma kütüphane eklemeye yarayan bir kod blogudur.\n",
        "print(sys.version)"
      ],
      "metadata": {
        "colab": {
          "base_uri": "https://localhost:8080/"
        },
        "id": "TErbPDdYwGdT",
        "outputId": "5ecd2a9d-dac4-4c95-9140-ad3f5db3e860"
      },
      "execution_count": null,
      "outputs": [
        {
          "output_type": "stream",
          "name": "stdout",
          "text": [
            "3.10.12 (main, Jul 29 2024, 16:56:48) [GCC 11.4.0]\n"
          ]
        }
      ]
    },
    {
      "cell_type": "code",
      "source": [
        "from google.colab import drive # google colab - drive bağlantısı\n",
        "\n",
        "drive.mount('/content/drive')"
      ],
      "metadata": {
        "colab": {
          "base_uri": "https://localhost:8080/"
        },
        "id": "vURVc_XjwIFD",
        "outputId": "f35ec567-693c-4c80-a536-1612f062ec6e"
      },
      "execution_count": null,
      "outputs": [
        {
          "output_type": "stream",
          "name": "stdout",
          "text": [
            "Mounted at /content/drive\n"
          ]
        }
      ]
    },
    {
      "cell_type": "code",
      "source": [
        "import os\n",
        "\n",
        "os.chdir('/content/drive/My Drive/VERIYAPILARI_ISTKA')\n",
        "\n",
        "!pwd # bize kodun çıktısını dosya yolu olarak veren kod blogudur."
      ],
      "metadata": {
        "colab": {
          "base_uri": "https://localhost:8080/"
        },
        "id": "jZNstTemwUE6",
        "outputId": "03d55575-0681-4246-be4d-d37c5cc61099"
      },
      "execution_count": null,
      "outputs": [
        {
          "output_type": "stream",
          "name": "stdout",
          "text": [
            "/content/drive/My Drive/VERIYAPILARI_ISTKA\n"
          ]
        }
      ]
    },
    {
      "cell_type": "code",
      "source": [
        "# 1 ile 100 arasındaki sayılardan 7'ye bölünenleri bulan Python kodu\n",
        "Sayi_dizisi = []\n",
        "sayi = 1\n",
        "\n",
        "while sayi <= 100:\n",
        "    if sayi % 7 == 0:\n",
        "        Sayi_dizisi.append(sayi)\n",
        "    sayi += 1\n",
        "\n",
        "# Sonucu ekrana yazdır\n",
        "print(\"1 ile 100 arasındaki 7'ye bölünen sayılar:\", Sayi_dizisi)\n",
        "print(\"Toplam sayı adeti: \", len(Sayi_dizisi))"
      ],
      "metadata": {
        "colab": {
          "base_uri": "https://localhost:8080/"
        },
        "id": "3_JafanewXSS",
        "outputId": "a5a576e3-f24e-4d93-c617-f305f1cab11c"
      },
      "execution_count": null,
      "outputs": [
        {
          "output_type": "stream",
          "name": "stdout",
          "text": [
            "1 ile 100 arasındaki 7'ye bölünen sayılar: [7, 14, 21, 28, 35, 42, 49, 56, 63, 70, 77, 84, 91, 98]\n",
            "Toplam sayı adeti:  14\n"
          ]
        }
      ]
    },
    {
      "cell_type": "code",
      "source": [
        "# Girilen iki kodun hangisinin büyük olduğunu bulan ve sayı dışında girilen karakterin hatalı olduğu bildiren kod blogudur.\n",
        "while True:\n",
        "  try:\n",
        "    gelen1 = float(input(\"Birinci sayıyı girin: \"))\n",
        "    gelen2 = float(input(\"İkinci sayıyı girin: \"))\n",
        "    if gelen1 > gelen2:\n",
        "      print(\"ilk sayı büyüktür\")\n",
        "    elif gelen1 < gelen2:\n",
        "      print(\"İkinci sayı büyüktür\")\n",
        "    else:\n",
        "      print(\"Sayılar bitbitine eşittir\")\n",
        "    break\n",
        "  except ValueError:\n",
        "    print(\"Lütfen geçerli bir sayı girin.\")"
      ],
      "metadata": {
        "colab": {
          "base_uri": "https://localhost:8080/"
        },
        "id": "QEc7DtahyUi-",
        "outputId": "b604fca4-d900-4173-db64-7014dad47120"
      },
      "execution_count": null,
      "outputs": [
        {
          "output_type": "stream",
          "name": "stdout",
          "text": [
            "Birinci sayıyı girin: 1\n",
            "İkinci sayıyı girin: 4\n",
            "İkinci sayı büyüktür\n"
          ]
        }
      ]
    },
    {
      "cell_type": "code",
      "source": [
        "#Kullanıcıdan alınan sayıya kadar 1'den başlayarak faktöreyel hesabının yapılmasıdır.\n",
        "while True:\n",
        "    try:\n",
        "      sayi = int(input(\"Bir sayı girin:\"))\n",
        "      if sayi < 0:\n",
        "          print(\"Negatif sayıların faktöriyeli hesaplanamaz.\")\n",
        "      elif sayi == 0 or sayi == 1:\n",
        "          print(1)\n",
        "      else:\n",
        "          sonuc = 1\n",
        "          while sayi > 1:\n",
        "            sonuc *= sayi\n",
        "            sayi -= 1\n",
        "          print(sonuc)\n",
        "      break\n",
        "    except ValueError:\n",
        "      print(\"Lütfen geçerli bir tam sayı girin:\")"
      ],
      "metadata": {
        "id": "9ozfpd8Q0ULO",
        "colab": {
          "base_uri": "https://localhost:8080/"
        },
        "outputId": "bc9b5afb-3e30-4b5a-e21b-f923bd413c67"
      },
      "execution_count": null,
      "outputs": [
        {
          "output_type": "stream",
          "name": "stdout",
          "text": [
            "Bir sayı girin:-10\n",
            "Negatif sayıların faktöriyeli hesaplanamaz.\n"
          ]
        }
      ]
    },
    {
      "cell_type": "code",
      "source": [
        "# Kullanıcıdan başlangıç değeri al\n",
        "while True:\n",
        "    try:\n",
        "      baslangıc_degeri = int(input(\"Başlangıç değerini girin:\"))\n",
        "      if baslangıc_degeri < 0:\n",
        "          baslangıc_degeri = abs(baslangıc_degeri)\n",
        "          print(f\"Negatif değer girdiniz, pozitif olarak alındı: {baslangıc_degeri}\")\n",
        "      break\n",
        "    except ValueError:\n",
        "      print(\"Lütfen geçerli bir tam sayı girin:\")\n",
        "#Kullanıcıdan son değer al\n",
        "while True:\n",
        "    try:\n",
        "      bitis_degeri = int(input(\"Bitiş değerini girin:\"))\n",
        "      if bitis_degeri < 0:\n",
        "          bitis_degeri = abs(bitis_degeri)\n",
        "          print(f\"Negatif değer girdiniz, pozitif oalrak alındı {bitis_degeri}\")\n",
        "      break\n",
        "    except ValueError:\n",
        "        print(\"Lütfen geçerli bir tam sayı girin:\")\n",
        "#Başlangıç ve bitiş değerleri arasında çift sayıları bul ve topla\n",
        "cift_sayilar = []\n",
        "cift_sayilarin_toplami = 0\n",
        "sayi = baslangıc_degeri\n",
        "while sayi <= bitis_degeri:\n",
        "  if sayi % 2 == 0:\n",
        "      cift_sayilar.append(sayi)\n",
        "      cift_sayilarin_toplami += sayi\n",
        "  sayi += 1\n",
        "#Elde edilen çift sayıları ve toplamlarını ekrana yazdır\n",
        "print(f\"{baslangıc_degeri} ile {bitis_degeri} arasındaki çift sayılar:\")\n",
        "for num in cift_sayilar:\n",
        "  print(num, end=\" \")\n",
        "print(f\"\\nçift sayıların toplamı: {cift_sayilarin_toplami}\")\n",
        "\n"
      ],
      "metadata": {
        "colab": {
          "base_uri": "https://localhost:8080/"
        },
        "id": "PYztfkbU9LiG",
        "outputId": "48d376f4-19e7-4d1e-9896-f279f9087ed6"
      },
      "execution_count": null,
      "outputs": [
        {
          "output_type": "stream",
          "name": "stdout",
          "text": [
            "Başlangıç değerini girin:10\n",
            "Bitiş değerini girin:50\n",
            "10 ile 50 arasındaki çift sayılar:\n",
            "10 12 14 16 18 20 22 24 26 28 30 32 34 36 38 40 42 44 46 48 50 \n",
            "çift sayıların toplamı: 630\n"
          ]
        }
      ]
    },
    {
      "cell_type": "code",
      "source": [
        "from re import I\n",
        "#Önceden tanımlanan sesli harf listesinde girilen metnin karşılaştırılması yapılarak sesli ve sessiz harf kontrolünün yapımı\n",
        "sesli_harfler = 'aeıioöuüAEIİOÖUÜ'\n",
        "kelime = input(\"Bir kelime girin:\") #Kullanıcıdan bir kelime al\n",
        "#Sesli ve sessiz harf sayısını hesapla\n",
        "sesli_harf_sayisi = 0\n",
        "sessiz_harf_sayisi = 0\n",
        "...\n",
        "#isalpha() ile bir stringde yalnızca harf olup olmadıgını kontrol etmek icin kullanılır.\n",
        "\n",
        "#Aşağıdaki kod blogunda geçen \"isalpha\" harf dışı bir karakter ile karşılaşınca \"false\" doöndürmektedir.\n",
        "...\n",
        "for harf in kelime:\n",
        "    if harf.isalpha(): #sadece harfleri kontrol et\n",
        "        if harf in sesli_harfler:\n",
        "            sesli_harf_sayisi +=1\n",
        "        else:\n",
        "            sessiz_harf_sayisi +=1\n",
        "#Sonuçları ekrana yazdır\n",
        "print(kelime, \"kelimesinde\" , sesli_harf_sayisi, \"adet sesli harf ve\" , sessiz_harf_sayisi, \"sessiz harf vardır.\")\n"
      ],
      "metadata": {
        "colab": {
          "base_uri": "https://localhost:8080/"
        },
        "id": "A3GKangrDEDU",
        "outputId": "e60f5eb8-c49c-4271-f8c0-13064c243b5a"
      },
      "execution_count": null,
      "outputs": [
        {
          "output_type": "stream",
          "name": "stdout",
          "text": [
            "Bir kelime girin:ankara\n",
            "ankara kelimesinde 3 adet sesli harf ve 3 sessiz harf vardır.\n"
          ]
        }
      ]
    }
  ]
}